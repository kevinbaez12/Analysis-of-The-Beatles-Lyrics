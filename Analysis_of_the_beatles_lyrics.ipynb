{
  "nbformat": 4,
  "nbformat_minor": 0,
  "metadata": {
    "colab": {
      "provenance": []
    },
    "kernelspec": {
      "name": "python3",
      "display_name": "Python 3"
    },
    "language_info": {
      "name": "python"
    }
  },
  "cells": [
    {
      "cell_type": "markdown",
      "source": [
        "# Analysis of The Beatles Lyrics"
      ],
      "metadata": {
        "id": "hC6v2QKQdhpZ"
      }
    },
    {
      "cell_type": "code",
      "source": [
        "#spacy library to tokenize text\n",
        "! python -m spacy download en_core_web_md"
      ],
      "metadata": {
        "id": "huBEbQSezT2p"
      },
      "execution_count": null,
      "outputs": []
    },
    {
      "cell_type": "code",
      "execution_count": null,
      "metadata": {
        "colab": {
          "base_uri": "https://localhost:8080/"
        },
        "id": "pVvozoXnda80",
        "outputId": "2da4bbb9-68d3-4b80-faa5-f089a0cf23a7"
      },
      "outputs": [
        {
          "output_type": "stream",
          "name": "stderr",
          "text": [
            "[nltk_data] Downloading package stopwords to /root/nltk_data...\n",
            "[nltk_data]   Unzipping corpora/stopwords.zip.\n",
            "[nltk_data] Downloading package punkt to /root/nltk_data...\n",
            "[nltk_data]   Unzipping tokenizers/punkt.zip.\n"
          ]
        }
      ],
      "source": [
        "#Importing libraries\n",
        "import pandas as pd\n",
        "import numpy as np\n",
        "from collections import Counter\n",
        "\n",
        "import nltk\n",
        "nltk.download('stopwords')\n",
        "nltk.download('punkt')\n",
        "from nltk.tokenize import word_tokenize\n",
        "from wordcloud import WordCloud,STOPWORDS\n",
        "from nltk.corpus import stopwords\n",
        "import matplotlib.pyplot as plt\n",
        "import re\n",
        "\n",
        "import spacy\n",
        "nlp = spacy.load(\"en_core_web_md\")\n",
        "\n",
        "from sklearn.feature_extraction.text import CountVectorizer, TfidfVectorizer\n",
        "from sklearn.neighbors import NearestNeighbors\n",
        "# spaCy's default stop words\n",
        "stop_list = list(nlp.Defaults.stop_words)"
      ]
    },
    {
      "cell_type": "code",
      "source": [
        "# Importing the dataset\n",
        "beatles = pd.read_excel (r\"Beatles-Lyrics.xlsx\", names=['ALBUM', 'SONG', 'LYRICS', 'EARLY_LATE', 'COMPOSER', 'YEAR'])"
      ],
      "metadata": {
        "id": "HPAIdAx6wswY"
      },
      "execution_count": null,
      "outputs": []
    },
    {
      "cell_type": "markdown",
      "source": [
        "# Exploratory Data Analysis\n"
      ],
      "metadata": {
        "id": "oa8T2F9axXwc"
      }
    },
    {
      "cell_type": "code",
      "source": [
        "beatles.head()"
      ],
      "metadata": {
        "colab": {
          "base_uri": "https://localhost:8080/",
          "height": 206
        },
        "id": "mj0nLNCwwwlU",
        "outputId": "fd1b6afa-a3a9-4dba-ae16-762f32f81404"
      },
      "execution_count": null,
      "outputs": [
        {
          "output_type": "execute_result",
          "data": {
            "text/plain": [
              "                 ALBUM              SONG  \\\n",
              "0  A. Please Please Me  A Taste of Honey   \n",
              "1  A. Please Please Me  Anna (Go To Him)   \n",
              "2  A. Please Please Me        Ask Me Why   \n",
              "3  A. Please Please Me     Baby It's You   \n",
              "4  A. Please Please Me              Boys   \n",
              "\n",
              "                                              LYRICS EARLY_LATE   COMPOSER  \\\n",
              "0  A taste of honey... tasting much sweeter than ...      Early  McCartney   \n",
              "1  Anna, You come and ask me, girl, To set you fr...      Early     Lennon   \n",
              "2  I love you Can't you tell me things I want to ...      Early     Lennon   \n",
              "3  Sha la la la la la la la Sha la la la la la la...      Early     Lennon   \n",
              "4  I been told when a boy kiss a girl, Take a tri...      Early      Starr   \n",
              "\n",
              "   YEAR  \n",
              "0  1963  \n",
              "1  1963  \n",
              "2  1963  \n",
              "3  1963  \n",
              "4  1963  "
            ],
            "text/html": [
              "\n",
              "  <div id=\"df-39b38546-bc23-4538-af37-658e00ceac71\">\n",
              "    <div class=\"colab-df-container\">\n",
              "      <div>\n",
              "<style scoped>\n",
              "    .dataframe tbody tr th:only-of-type {\n",
              "        vertical-align: middle;\n",
              "    }\n",
              "\n",
              "    .dataframe tbody tr th {\n",
              "        vertical-align: top;\n",
              "    }\n",
              "\n",
              "    .dataframe thead th {\n",
              "        text-align: right;\n",
              "    }\n",
              "</style>\n",
              "<table border=\"1\" class=\"dataframe\">\n",
              "  <thead>\n",
              "    <tr style=\"text-align: right;\">\n",
              "      <th></th>\n",
              "      <th>ALBUM</th>\n",
              "      <th>SONG</th>\n",
              "      <th>LYRICS</th>\n",
              "      <th>EARLY_LATE</th>\n",
              "      <th>COMPOSER</th>\n",
              "      <th>YEAR</th>\n",
              "    </tr>\n",
              "  </thead>\n",
              "  <tbody>\n",
              "    <tr>\n",
              "      <th>0</th>\n",
              "      <td>A. Please Please Me</td>\n",
              "      <td>A Taste of Honey</td>\n",
              "      <td>A taste of honey... tasting much sweeter than ...</td>\n",
              "      <td>Early</td>\n",
              "      <td>McCartney</td>\n",
              "      <td>1963</td>\n",
              "    </tr>\n",
              "    <tr>\n",
              "      <th>1</th>\n",
              "      <td>A. Please Please Me</td>\n",
              "      <td>Anna (Go To Him)</td>\n",
              "      <td>Anna, You come and ask me, girl, To set you fr...</td>\n",
              "      <td>Early</td>\n",
              "      <td>Lennon</td>\n",
              "      <td>1963</td>\n",
              "    </tr>\n",
              "    <tr>\n",
              "      <th>2</th>\n",
              "      <td>A. Please Please Me</td>\n",
              "      <td>Ask Me Why</td>\n",
              "      <td>I love you Can't you tell me things I want to ...</td>\n",
              "      <td>Early</td>\n",
              "      <td>Lennon</td>\n",
              "      <td>1963</td>\n",
              "    </tr>\n",
              "    <tr>\n",
              "      <th>3</th>\n",
              "      <td>A. Please Please Me</td>\n",
              "      <td>Baby It's You</td>\n",
              "      <td>Sha la la la la la la la Sha la la la la la la...</td>\n",
              "      <td>Early</td>\n",
              "      <td>Lennon</td>\n",
              "      <td>1963</td>\n",
              "    </tr>\n",
              "    <tr>\n",
              "      <th>4</th>\n",
              "      <td>A. Please Please Me</td>\n",
              "      <td>Boys</td>\n",
              "      <td>I been told when a boy kiss a girl, Take a tri...</td>\n",
              "      <td>Early</td>\n",
              "      <td>Starr</td>\n",
              "      <td>1963</td>\n",
              "    </tr>\n",
              "  </tbody>\n",
              "</table>\n",
              "</div>\n",
              "      <button class=\"colab-df-convert\" onclick=\"convertToInteractive('df-39b38546-bc23-4538-af37-658e00ceac71')\"\n",
              "              title=\"Convert this dataframe to an interactive table.\"\n",
              "              style=\"display:none;\">\n",
              "        \n",
              "  <svg xmlns=\"http://www.w3.org/2000/svg\" height=\"24px\"viewBox=\"0 0 24 24\"\n",
              "       width=\"24px\">\n",
              "    <path d=\"M0 0h24v24H0V0z\" fill=\"none\"/>\n",
              "    <path d=\"M18.56 5.44l.94 2.06.94-2.06 2.06-.94-2.06-.94-.94-2.06-.94 2.06-2.06.94zm-11 1L8.5 8.5l.94-2.06 2.06-.94-2.06-.94L8.5 2.5l-.94 2.06-2.06.94zm10 10l.94 2.06.94-2.06 2.06-.94-2.06-.94-.94-2.06-.94 2.06-2.06.94z\"/><path d=\"M17.41 7.96l-1.37-1.37c-.4-.4-.92-.59-1.43-.59-.52 0-1.04.2-1.43.59L10.3 9.45l-7.72 7.72c-.78.78-.78 2.05 0 2.83L4 21.41c.39.39.9.59 1.41.59.51 0 1.02-.2 1.41-.59l7.78-7.78 2.81-2.81c.8-.78.8-2.07 0-2.86zM5.41 20L4 18.59l7.72-7.72 1.47 1.35L5.41 20z\"/>\n",
              "  </svg>\n",
              "      </button>\n",
              "      \n",
              "  <style>\n",
              "    .colab-df-container {\n",
              "      display:flex;\n",
              "      flex-wrap:wrap;\n",
              "      gap: 12px;\n",
              "    }\n",
              "\n",
              "    .colab-df-convert {\n",
              "      background-color: #E8F0FE;\n",
              "      border: none;\n",
              "      border-radius: 50%;\n",
              "      cursor: pointer;\n",
              "      display: none;\n",
              "      fill: #1967D2;\n",
              "      height: 32px;\n",
              "      padding: 0 0 0 0;\n",
              "      width: 32px;\n",
              "    }\n",
              "\n",
              "    .colab-df-convert:hover {\n",
              "      background-color: #E2EBFA;\n",
              "      box-shadow: 0px 1px 2px rgba(60, 64, 67, 0.3), 0px 1px 3px 1px rgba(60, 64, 67, 0.15);\n",
              "      fill: #174EA6;\n",
              "    }\n",
              "\n",
              "    [theme=dark] .colab-df-convert {\n",
              "      background-color: #3B4455;\n",
              "      fill: #D2E3FC;\n",
              "    }\n",
              "\n",
              "    [theme=dark] .colab-df-convert:hover {\n",
              "      background-color: #434B5C;\n",
              "      box-shadow: 0px 1px 3px 1px rgba(0, 0, 0, 0.15);\n",
              "      filter: drop-shadow(0px 1px 2px rgba(0, 0, 0, 0.3));\n",
              "      fill: #FFFFFF;\n",
              "    }\n",
              "  </style>\n",
              "\n",
              "      <script>\n",
              "        const buttonEl =\n",
              "          document.querySelector('#df-39b38546-bc23-4538-af37-658e00ceac71 button.colab-df-convert');\n",
              "        buttonEl.style.display =\n",
              "          google.colab.kernel.accessAllowed ? 'block' : 'none';\n",
              "\n",
              "        async function convertToInteractive(key) {\n",
              "          const element = document.querySelector('#df-39b38546-bc23-4538-af37-658e00ceac71');\n",
              "          const dataTable =\n",
              "            await google.colab.kernel.invokeFunction('convertToInteractive',\n",
              "                                                     [key], {});\n",
              "          if (!dataTable) return;\n",
              "\n",
              "          const docLinkHtml = 'Like what you see? Visit the ' +\n",
              "            '<a target=\"_blank\" href=https://colab.research.google.com/notebooks/data_table.ipynb>data table notebook</a>'\n",
              "            + ' to learn more about interactive tables.';\n",
              "          element.innerHTML = '';\n",
              "          dataTable['output_type'] = 'display_data';\n",
              "          await google.colab.output.renderOutput(dataTable, element);\n",
              "          const docLink = document.createElement('div');\n",
              "          docLink.innerHTML = docLinkHtml;\n",
              "          element.appendChild(docLink);\n",
              "        }\n",
              "      </script>\n",
              "    </div>\n",
              "  </div>\n",
              "  "
            ]
          },
          "metadata": {},
          "execution_count": 6
        }
      ]
    },
    {
      "cell_type": "code",
      "source": [
        "beatles[\"LYRICS\"][100]"
      ],
      "metadata": {
        "colab": {
          "base_uri": "https://localhost:8080/",
          "height": 87
        },
        "id": "yui1YlY4xKcZ",
        "outputId": "1301a09e-3079-407b-a3b1-1e19b92ea0cf"
      },
      "execution_count": null,
      "outputs": [
        {
          "output_type": "execute_result",
          "data": {
            "text/plain": [
              "\"It's getting better all the time I used to get mad at my school The teacher's that taught me weren't cool You're holding me down Filling me up with your rules I've got to admit it's getting better A little better all the time I have to admit it's getting better It's getting better since you've been mine Me used to be angry young man Me hiding me head in the sand You gave me the word I finally heard I'm doing the best that I can I've got to admit it's getting better I used to be cruel to my woman I beat her and kept apart from the things that she loved Man I was mean but I'm changing my scene And I'm doing the best that I can I admit it's getting better A little better all the time Yes I admit it's getting better It's getting better since you've been mine...\""
            ],
            "application/vnd.google.colaboratory.intrinsic+json": {
              "type": "string"
            }
          },
          "metadata": {},
          "execution_count": 7
        }
      ]
    },
    {
      "cell_type": "code",
      "source": [
        "type(beatles[\"LYRICS\"][100])"
      ],
      "metadata": {
        "colab": {
          "base_uri": "https://localhost:8080/"
        },
        "id": "H4V0AXUjxce0",
        "outputId": "2623058b-07a6-4905-833d-ef721d0448ff"
      },
      "execution_count": null,
      "outputs": [
        {
          "output_type": "execute_result",
          "data": {
            "text/plain": [
              "str"
            ]
          },
          "metadata": {},
          "execution_count": 8
        }
      ]
    },
    {
      "cell_type": "code",
      "source": [
        "beatles.info()"
      ],
      "metadata": {
        "colab": {
          "base_uri": "https://localhost:8080/"
        },
        "id": "w4XzU3YIxthJ",
        "outputId": "8dd9d451-ce76-4bcb-93a0-2d2731043463"
      },
      "execution_count": null,
      "outputs": [
        {
          "output_type": "stream",
          "name": "stdout",
          "text": [
            "<class 'pandas.core.frame.DataFrame'>\n",
            "RangeIndex: 186 entries, 0 to 185\n",
            "Data columns (total 6 columns):\n",
            " #   Column      Non-Null Count  Dtype \n",
            "---  ------      --------------  ----- \n",
            " 0   ALBUM       186 non-null    object\n",
            " 1   SONG        186 non-null    object\n",
            " 2   LYRICS      184 non-null    object\n",
            " 3   EARLY_LATE  186 non-null    object\n",
            " 4   COMPOSER    184 non-null    object\n",
            " 5   YEAR        186 non-null    int64 \n",
            "dtypes: int64(1), object(5)\n",
            "memory usage: 8.8+ KB\n"
          ]
        }
      ]
    },
    {
      "cell_type": "markdown",
      "source": [
        "# Case normalization & punctuation cleanup"
      ],
      "metadata": {
        "id": "4IQZ5w3M0Z3m"
      }
    },
    {
      "cell_type": "code",
      "source": [
        "# Change data types to their appropriate type\n",
        "beatles['LYRICS'] = beatles['LYRICS'].astype(\"str\")\n",
        "\n",
        "# Make every lyric lowercase\n",
        "beatles['LYRICS'] =  beatles['LYRICS'].str.lower()\n",
        "\n",
        "#remove all punctuation\n",
        "beatles['LYRICS'] = beatles['LYRICS'].str.replace('[^\\w\\s]','')"
      ],
      "metadata": {
        "colab": {
          "base_uri": "https://localhost:8080/"
        },
        "id": "9fbsCvQE0jK7",
        "outputId": "646d35f3-68fe-4e4a-8902-850f674b0c35"
      },
      "execution_count": null,
      "outputs": [
        {
          "output_type": "stream",
          "name": "stderr",
          "text": [
            "/usr/local/lib/python3.7/dist-packages/ipykernel_launcher.py:8: FutureWarning: The default value of regex will change from True to False in a future version.\n",
            "  \n"
          ]
        }
      ]
    },
    {
      "cell_type": "code",
      "source": [
        "#sanity check \n",
        "print(beatles[\"LYRICS\"][100])"
      ],
      "metadata": {
        "colab": {
          "base_uri": "https://localhost:8080/"
        },
        "id": "ecOuYAv22ns2",
        "outputId": "aee81615-6da9-4ad6-e23d-82f0275cb8ef"
      },
      "execution_count": null,
      "outputs": [
        {
          "output_type": "stream",
          "name": "stdout",
          "text": [
            "its getting better all the time i used to get mad at my school the teachers that taught me werent cool youre holding me down filling me up with your rules ive got to admit its getting better a little better all the time i have to admit its getting better its getting better since youve been mine me used to be angry young man me hiding me head in the sand you gave me the word i finally heard im doing the best that i can ive got to admit its getting better i used to be cruel to my woman i beat her and kept apart from the things that she loved man i was mean but im changing my scene and im doing the best that i can i admit its getting better a little better all the time yes i admit its getting better its getting better since youve been mine\n"
          ]
        }
      ]
    },
    {
      "cell_type": "markdown",
      "source": [
        "# Tokenization\n"
      ],
      "metadata": {
        "id": "iCW7aNFGx76w"
      }
    },
    {
      "cell_type": "code",
      "source": [
        "#Tokenize text\n",
        "beatles[\"TOKEN_LYRICS\"] = beatles['LYRICS'].apply(word_tokenize)"
      ],
      "metadata": {
        "id": "ndZ8zU_Rx_46"
      },
      "execution_count": null,
      "outputs": []
    },
    {
      "cell_type": "code",
      "source": [
        "beatles.head()"
      ],
      "metadata": {
        "colab": {
          "base_uri": "https://localhost:8080/",
          "height": 206
        },
        "id": "dKqPfp3i5xCQ",
        "outputId": "e1be8714-7fe2-45f5-edd9-dc8b988afc06"
      },
      "execution_count": null,
      "outputs": [
        {
          "output_type": "execute_result",
          "data": {
            "text/plain": [
              "                 ALBUM              SONG  \\\n",
              "0  A. Please Please Me  A Taste of Honey   \n",
              "1  A. Please Please Me  Anna (Go To Him)   \n",
              "2  A. Please Please Me        Ask Me Why   \n",
              "3  A. Please Please Me     Baby It's You   \n",
              "4  A. Please Please Me              Boys   \n",
              "\n",
              "                                              LYRICS EARLY_LATE   COMPOSER  \\\n",
              "0  a taste of honey tasting much sweeter than win...      Early  McCartney   \n",
              "1  anna you come and ask me girl to set you free ...      Early     Lennon   \n",
              "2  i love you cant you tell me things i want to k...      Early     Lennon   \n",
              "3  sha la la la la la la la sha la la la la la la...      Early     Lennon   \n",
              "4  i been told when a boy kiss a girl take a trip...      Early      Starr   \n",
              "\n",
              "   YEAR                                       TOKEN_LYRICS  \n",
              "0  1963  [a, taste, of, honey, tasting, much, sweeter, ...  \n",
              "1  1963  [anna, you, come, and, ask, me, girl, to, set,...  \n",
              "2  1963  [i, love, you, cant, you, tell, me, things, i,...  \n",
              "3  1963  [sha, la, la, la, la, la, la, la, sha, la, la,...  \n",
              "4  1963  [i, been, told, when, a, boy, kiss, a, girl, t...  "
            ],
            "text/html": [
              "\n",
              "  <div id=\"df-c49c6ecb-979f-4478-bf79-b589deaf620e\">\n",
              "    <div class=\"colab-df-container\">\n",
              "      <div>\n",
              "<style scoped>\n",
              "    .dataframe tbody tr th:only-of-type {\n",
              "        vertical-align: middle;\n",
              "    }\n",
              "\n",
              "    .dataframe tbody tr th {\n",
              "        vertical-align: top;\n",
              "    }\n",
              "\n",
              "    .dataframe thead th {\n",
              "        text-align: right;\n",
              "    }\n",
              "</style>\n",
              "<table border=\"1\" class=\"dataframe\">\n",
              "  <thead>\n",
              "    <tr style=\"text-align: right;\">\n",
              "      <th></th>\n",
              "      <th>ALBUM</th>\n",
              "      <th>SONG</th>\n",
              "      <th>LYRICS</th>\n",
              "      <th>EARLY_LATE</th>\n",
              "      <th>COMPOSER</th>\n",
              "      <th>YEAR</th>\n",
              "      <th>TOKEN_LYRICS</th>\n",
              "    </tr>\n",
              "  </thead>\n",
              "  <tbody>\n",
              "    <tr>\n",
              "      <th>0</th>\n",
              "      <td>A. Please Please Me</td>\n",
              "      <td>A Taste of Honey</td>\n",
              "      <td>a taste of honey tasting much sweeter than win...</td>\n",
              "      <td>Early</td>\n",
              "      <td>McCartney</td>\n",
              "      <td>1963</td>\n",
              "      <td>[a, taste, of, honey, tasting, much, sweeter, ...</td>\n",
              "    </tr>\n",
              "    <tr>\n",
              "      <th>1</th>\n",
              "      <td>A. Please Please Me</td>\n",
              "      <td>Anna (Go To Him)</td>\n",
              "      <td>anna you come and ask me girl to set you free ...</td>\n",
              "      <td>Early</td>\n",
              "      <td>Lennon</td>\n",
              "      <td>1963</td>\n",
              "      <td>[anna, you, come, and, ask, me, girl, to, set,...</td>\n",
              "    </tr>\n",
              "    <tr>\n",
              "      <th>2</th>\n",
              "      <td>A. Please Please Me</td>\n",
              "      <td>Ask Me Why</td>\n",
              "      <td>i love you cant you tell me things i want to k...</td>\n",
              "      <td>Early</td>\n",
              "      <td>Lennon</td>\n",
              "      <td>1963</td>\n",
              "      <td>[i, love, you, cant, you, tell, me, things, i,...</td>\n",
              "    </tr>\n",
              "    <tr>\n",
              "      <th>3</th>\n",
              "      <td>A. Please Please Me</td>\n",
              "      <td>Baby It's You</td>\n",
              "      <td>sha la la la la la la la sha la la la la la la...</td>\n",
              "      <td>Early</td>\n",
              "      <td>Lennon</td>\n",
              "      <td>1963</td>\n",
              "      <td>[sha, la, la, la, la, la, la, la, sha, la, la,...</td>\n",
              "    </tr>\n",
              "    <tr>\n",
              "      <th>4</th>\n",
              "      <td>A. Please Please Me</td>\n",
              "      <td>Boys</td>\n",
              "      <td>i been told when a boy kiss a girl take a trip...</td>\n",
              "      <td>Early</td>\n",
              "      <td>Starr</td>\n",
              "      <td>1963</td>\n",
              "      <td>[i, been, told, when, a, boy, kiss, a, girl, t...</td>\n",
              "    </tr>\n",
              "  </tbody>\n",
              "</table>\n",
              "</div>\n",
              "      <button class=\"colab-df-convert\" onclick=\"convertToInteractive('df-c49c6ecb-979f-4478-bf79-b589deaf620e')\"\n",
              "              title=\"Convert this dataframe to an interactive table.\"\n",
              "              style=\"display:none;\">\n",
              "        \n",
              "  <svg xmlns=\"http://www.w3.org/2000/svg\" height=\"24px\"viewBox=\"0 0 24 24\"\n",
              "       width=\"24px\">\n",
              "    <path d=\"M0 0h24v24H0V0z\" fill=\"none\"/>\n",
              "    <path d=\"M18.56 5.44l.94 2.06.94-2.06 2.06-.94-2.06-.94-.94-2.06-.94 2.06-2.06.94zm-11 1L8.5 8.5l.94-2.06 2.06-.94-2.06-.94L8.5 2.5l-.94 2.06-2.06.94zm10 10l.94 2.06.94-2.06 2.06-.94-2.06-.94-.94-2.06-.94 2.06-2.06.94z\"/><path d=\"M17.41 7.96l-1.37-1.37c-.4-.4-.92-.59-1.43-.59-.52 0-1.04.2-1.43.59L10.3 9.45l-7.72 7.72c-.78.78-.78 2.05 0 2.83L4 21.41c.39.39.9.59 1.41.59.51 0 1.02-.2 1.41-.59l7.78-7.78 2.81-2.81c.8-.78.8-2.07 0-2.86zM5.41 20L4 18.59l7.72-7.72 1.47 1.35L5.41 20z\"/>\n",
              "  </svg>\n",
              "      </button>\n",
              "      \n",
              "  <style>\n",
              "    .colab-df-container {\n",
              "      display:flex;\n",
              "      flex-wrap:wrap;\n",
              "      gap: 12px;\n",
              "    }\n",
              "\n",
              "    .colab-df-convert {\n",
              "      background-color: #E8F0FE;\n",
              "      border: none;\n",
              "      border-radius: 50%;\n",
              "      cursor: pointer;\n",
              "      display: none;\n",
              "      fill: #1967D2;\n",
              "      height: 32px;\n",
              "      padding: 0 0 0 0;\n",
              "      width: 32px;\n",
              "    }\n",
              "\n",
              "    .colab-df-convert:hover {\n",
              "      background-color: #E2EBFA;\n",
              "      box-shadow: 0px 1px 2px rgba(60, 64, 67, 0.3), 0px 1px 3px 1px rgba(60, 64, 67, 0.15);\n",
              "      fill: #174EA6;\n",
              "    }\n",
              "\n",
              "    [theme=dark] .colab-df-convert {\n",
              "      background-color: #3B4455;\n",
              "      fill: #D2E3FC;\n",
              "    }\n",
              "\n",
              "    [theme=dark] .colab-df-convert:hover {\n",
              "      background-color: #434B5C;\n",
              "      box-shadow: 0px 1px 3px 1px rgba(0, 0, 0, 0.15);\n",
              "      filter: drop-shadow(0px 1px 2px rgba(0, 0, 0, 0.3));\n",
              "      fill: #FFFFFF;\n",
              "    }\n",
              "  </style>\n",
              "\n",
              "      <script>\n",
              "        const buttonEl =\n",
              "          document.querySelector('#df-c49c6ecb-979f-4478-bf79-b589deaf620e button.colab-df-convert');\n",
              "        buttonEl.style.display =\n",
              "          google.colab.kernel.accessAllowed ? 'block' : 'none';\n",
              "\n",
              "        async function convertToInteractive(key) {\n",
              "          const element = document.querySelector('#df-c49c6ecb-979f-4478-bf79-b589deaf620e');\n",
              "          const dataTable =\n",
              "            await google.colab.kernel.invokeFunction('convertToInteractive',\n",
              "                                                     [key], {});\n",
              "          if (!dataTable) return;\n",
              "\n",
              "          const docLinkHtml = 'Like what you see? Visit the ' +\n",
              "            '<a target=\"_blank\" href=https://colab.research.google.com/notebooks/data_table.ipynb>data table notebook</a>'\n",
              "            + ' to learn more about interactive tables.';\n",
              "          element.innerHTML = '';\n",
              "          dataTable['output_type'] = 'display_data';\n",
              "          await google.colab.output.renderOutput(dataTable, element);\n",
              "          const docLink = document.createElement('div');\n",
              "          docLink.innerHTML = docLinkHtml;\n",
              "          element.appendChild(docLink);\n",
              "        }\n",
              "      </script>\n",
              "    </div>\n",
              "  </div>\n",
              "  "
            ]
          },
          "metadata": {},
          "execution_count": 13
        }
      ]
    },
    {
      "cell_type": "code",
      "source": [
        "#remove stopwords\n",
        "\n",
        "stopwords = nltk.corpus.stopwords.words('english')\n",
        "\n",
        "beatles['TOKEN_LYRICS'] = beatles['LYRICS'].apply(lambda x: ' '.join([word for word in x.split() if word not in (stopwords)]))"
      ],
      "metadata": {
        "id": "k7oRXa4D52WG"
      },
      "execution_count": null,
      "outputs": []
    },
    {
      "cell_type": "code",
      "source": [
        "#sanity check stopwords have been removed\n",
        "beatles['TOKEN_LYRICS'][0]"
      ],
      "metadata": {
        "colab": {
          "base_uri": "https://localhost:8080/",
          "height": 53
        },
        "id": "oKN3ZaCcDQZ7",
        "outputId": "869c983b-f573-41e9-f92a-c5fcc233ba91"
      },
      "execution_count": null,
      "outputs": [
        {
          "output_type": "execute_result",
          "data": {
            "text/plain": [
              "'taste honey tasting much sweeter wine dream first kiss feel upon lips taste honey tasting much sweeter wine return yes return ill come back honey kiss awoke heart lingers still though far apart taste honey tasting much sweeter wine return yes return ill come back hell come back honey honey'"
            ],
            "application/vnd.google.colaboratory.intrinsic+json": {
              "type": "string"
            }
          },
          "metadata": {},
          "execution_count": 15
        }
      ]
    },
    {
      "cell_type": "code",
      "source": [
        "#CountVectorizer to get total word count\n",
        "\n",
        "vect = CountVectorizer(tokenizer=word_tokenize, stop_words='english')\n",
        "dtm_tf = vect.fit_transform(beatles['TOKEN_LYRICS']) # Here, tf stands for \"term frequency, i.e. counts for each term\"\n",
        "dtm_tf = pd.DataFrame(data = dtm_tf.toarray(), columns=vect.get_feature_names())"
      ],
      "metadata": {
        "colab": {
          "base_uri": "https://localhost:8080/"
        },
        "id": "pvQ8hNeNFayC",
        "outputId": "cc0d2a14-6142-4a87-b6bb-bc8a69ad2f6c"
      },
      "execution_count": null,
      "outputs": [
        {
          "output_type": "stream",
          "name": "stderr",
          "text": [
            "/usr/local/lib/python3.7/dist-packages/sklearn/utils/deprecation.py:87: FutureWarning: Function get_feature_names is deprecated; get_feature_names is deprecated in 1.0 and will be removed in 1.2. Please use get_feature_names_out instead.\n",
            "  warnings.warn(msg, category=FutureWarning)\n"
          ]
        }
      ]
    },
    {
      "cell_type": "code",
      "source": [
        "dtm_tf"
      ],
      "metadata": {
        "colab": {
          "base_uri": "https://localhost:8080/",
          "height": 424
        },
        "id": "meM-j3U3HKxh",
        "outputId": "1aedc259-dde4-4be0-a206-8907001ffe8a"
      },
      "execution_count": null,
      "outputs": [
        {
          "output_type": "execute_result",
          "data": {
            "text/plain": [
              "     1234  56789  aaaaah  aaahhh  able  abord  accidents  aches  act  acts  \\\n",
              "0       0      0       0       0     0      0          0      0    0     0   \n",
              "1       0      0       0       0     0      0          0      0    0     0   \n",
              "2       0      0       0       0     0      0          0      0    0     0   \n",
              "3       0      0       0       0     0      0          0      0    0     0   \n",
              "4       0      0       0       2     0      0          0      0    0     0   \n",
              "..    ...    ...     ...     ...   ...    ...        ...    ...  ...   ...   \n",
              "181     0      0       0       0     0      0          0      0    0     0   \n",
              "182     0      0       0       0     0      0          0      0    0     0   \n",
              "183     0      0       0       0     0      0          0      0    0     0   \n",
              "184     0      0       0       0     0      0          0      0    0     0   \n",
              "185     0      0       0       0     0      0          0      0    0     0   \n",
              "\n",
              "     ...  young  younger  youoooo  youoooooo  youre  youve  youyouyouyou  \\\n",
              "0    ...      0        0        0          0      0      0             0   \n",
              "1    ...      0        0        0          0      0      0             0   \n",
              "2    ...      0        0        0          0      2      0             0   \n",
              "3    ...      0        0        0          0      0      0             0   \n",
              "4    ...      0        0        0          0      0      0             0   \n",
              "..   ...    ...      ...      ...        ...    ...    ...           ...   \n",
              "181  ...      0        0        0          0      0      0             0   \n",
              "182  ...      0        0        0          0      0      0             0   \n",
              "183  ...      0        0        0          0      2      2             0   \n",
              "184  ...      0        0        0          0      0      0             0   \n",
              "185  ...      0        0        0          0      0      0             0   \n",
              "\n",
              "     zapped  zoo  zoom  \n",
              "0         0    0     0  \n",
              "1         0    0     0  \n",
              "2         0    0     0  \n",
              "3         0    0     0  \n",
              "4         0    0     0  \n",
              "..      ...  ...   ...  \n",
              "181       0    0     0  \n",
              "182       0    0     0  \n",
              "183       0    0     0  \n",
              "184       0    0     0  \n",
              "185       0    0     0  \n",
              "\n",
              "[186 rows x 2064 columns]"
            ],
            "text/html": [
              "\n",
              "  <div id=\"df-cc684d0d-97bd-41ab-9e6a-5c4d7978dfe0\">\n",
              "    <div class=\"colab-df-container\">\n",
              "      <div>\n",
              "<style scoped>\n",
              "    .dataframe tbody tr th:only-of-type {\n",
              "        vertical-align: middle;\n",
              "    }\n",
              "\n",
              "    .dataframe tbody tr th {\n",
              "        vertical-align: top;\n",
              "    }\n",
              "\n",
              "    .dataframe thead th {\n",
              "        text-align: right;\n",
              "    }\n",
              "</style>\n",
              "<table border=\"1\" class=\"dataframe\">\n",
              "  <thead>\n",
              "    <tr style=\"text-align: right;\">\n",
              "      <th></th>\n",
              "      <th>1234</th>\n",
              "      <th>56789</th>\n",
              "      <th>aaaaah</th>\n",
              "      <th>aaahhh</th>\n",
              "      <th>able</th>\n",
              "      <th>abord</th>\n",
              "      <th>accidents</th>\n",
              "      <th>aches</th>\n",
              "      <th>act</th>\n",
              "      <th>acts</th>\n",
              "      <th>...</th>\n",
              "      <th>young</th>\n",
              "      <th>younger</th>\n",
              "      <th>youoooo</th>\n",
              "      <th>youoooooo</th>\n",
              "      <th>youre</th>\n",
              "      <th>youve</th>\n",
              "      <th>youyouyouyou</th>\n",
              "      <th>zapped</th>\n",
              "      <th>zoo</th>\n",
              "      <th>zoom</th>\n",
              "    </tr>\n",
              "  </thead>\n",
              "  <tbody>\n",
              "    <tr>\n",
              "      <th>0</th>\n",
              "      <td>0</td>\n",
              "      <td>0</td>\n",
              "      <td>0</td>\n",
              "      <td>0</td>\n",
              "      <td>0</td>\n",
              "      <td>0</td>\n",
              "      <td>0</td>\n",
              "      <td>0</td>\n",
              "      <td>0</td>\n",
              "      <td>0</td>\n",
              "      <td>...</td>\n",
              "      <td>0</td>\n",
              "      <td>0</td>\n",
              "      <td>0</td>\n",
              "      <td>0</td>\n",
              "      <td>0</td>\n",
              "      <td>0</td>\n",
              "      <td>0</td>\n",
              "      <td>0</td>\n",
              "      <td>0</td>\n",
              "      <td>0</td>\n",
              "    </tr>\n",
              "    <tr>\n",
              "      <th>1</th>\n",
              "      <td>0</td>\n",
              "      <td>0</td>\n",
              "      <td>0</td>\n",
              "      <td>0</td>\n",
              "      <td>0</td>\n",
              "      <td>0</td>\n",
              "      <td>0</td>\n",
              "      <td>0</td>\n",
              "      <td>0</td>\n",
              "      <td>0</td>\n",
              "      <td>...</td>\n",
              "      <td>0</td>\n",
              "      <td>0</td>\n",
              "      <td>0</td>\n",
              "      <td>0</td>\n",
              "      <td>0</td>\n",
              "      <td>0</td>\n",
              "      <td>0</td>\n",
              "      <td>0</td>\n",
              "      <td>0</td>\n",
              "      <td>0</td>\n",
              "    </tr>\n",
              "    <tr>\n",
              "      <th>2</th>\n",
              "      <td>0</td>\n",
              "      <td>0</td>\n",
              "      <td>0</td>\n",
              "      <td>0</td>\n",
              "      <td>0</td>\n",
              "      <td>0</td>\n",
              "      <td>0</td>\n",
              "      <td>0</td>\n",
              "      <td>0</td>\n",
              "      <td>0</td>\n",
              "      <td>...</td>\n",
              "      <td>0</td>\n",
              "      <td>0</td>\n",
              "      <td>0</td>\n",
              "      <td>0</td>\n",
              "      <td>2</td>\n",
              "      <td>0</td>\n",
              "      <td>0</td>\n",
              "      <td>0</td>\n",
              "      <td>0</td>\n",
              "      <td>0</td>\n",
              "    </tr>\n",
              "    <tr>\n",
              "      <th>3</th>\n",
              "      <td>0</td>\n",
              "      <td>0</td>\n",
              "      <td>0</td>\n",
              "      <td>0</td>\n",
              "      <td>0</td>\n",
              "      <td>0</td>\n",
              "      <td>0</td>\n",
              "      <td>0</td>\n",
              "      <td>0</td>\n",
              "      <td>0</td>\n",
              "      <td>...</td>\n",
              "      <td>0</td>\n",
              "      <td>0</td>\n",
              "      <td>0</td>\n",
              "      <td>0</td>\n",
              "      <td>0</td>\n",
              "      <td>0</td>\n",
              "      <td>0</td>\n",
              "      <td>0</td>\n",
              "      <td>0</td>\n",
              "      <td>0</td>\n",
              "    </tr>\n",
              "    <tr>\n",
              "      <th>4</th>\n",
              "      <td>0</td>\n",
              "      <td>0</td>\n",
              "      <td>0</td>\n",
              "      <td>2</td>\n",
              "      <td>0</td>\n",
              "      <td>0</td>\n",
              "      <td>0</td>\n",
              "      <td>0</td>\n",
              "      <td>0</td>\n",
              "      <td>0</td>\n",
              "      <td>...</td>\n",
              "      <td>0</td>\n",
              "      <td>0</td>\n",
              "      <td>0</td>\n",
              "      <td>0</td>\n",
              "      <td>0</td>\n",
              "      <td>0</td>\n",
              "      <td>0</td>\n",
              "      <td>0</td>\n",
              "      <td>0</td>\n",
              "      <td>0</td>\n",
              "    </tr>\n",
              "    <tr>\n",
              "      <th>...</th>\n",
              "      <td>...</td>\n",
              "      <td>...</td>\n",
              "      <td>...</td>\n",
              "      <td>...</td>\n",
              "      <td>...</td>\n",
              "      <td>...</td>\n",
              "      <td>...</td>\n",
              "      <td>...</td>\n",
              "      <td>...</td>\n",
              "      <td>...</td>\n",
              "      <td>...</td>\n",
              "      <td>...</td>\n",
              "      <td>...</td>\n",
              "      <td>...</td>\n",
              "      <td>...</td>\n",
              "      <td>...</td>\n",
              "      <td>...</td>\n",
              "      <td>...</td>\n",
              "      <td>...</td>\n",
              "      <td>...</td>\n",
              "      <td>...</td>\n",
              "    </tr>\n",
              "    <tr>\n",
              "      <th>181</th>\n",
              "      <td>0</td>\n",
              "      <td>0</td>\n",
              "      <td>0</td>\n",
              "      <td>0</td>\n",
              "      <td>0</td>\n",
              "      <td>0</td>\n",
              "      <td>0</td>\n",
              "      <td>0</td>\n",
              "      <td>0</td>\n",
              "      <td>0</td>\n",
              "      <td>...</td>\n",
              "      <td>0</td>\n",
              "      <td>0</td>\n",
              "      <td>0</td>\n",
              "      <td>0</td>\n",
              "      <td>0</td>\n",
              "      <td>0</td>\n",
              "      <td>0</td>\n",
              "      <td>0</td>\n",
              "      <td>0</td>\n",
              "      <td>0</td>\n",
              "    </tr>\n",
              "    <tr>\n",
              "      <th>182</th>\n",
              "      <td>0</td>\n",
              "      <td>0</td>\n",
              "      <td>0</td>\n",
              "      <td>0</td>\n",
              "      <td>0</td>\n",
              "      <td>0</td>\n",
              "      <td>0</td>\n",
              "      <td>0</td>\n",
              "      <td>0</td>\n",
              "      <td>0</td>\n",
              "      <td>...</td>\n",
              "      <td>0</td>\n",
              "      <td>0</td>\n",
              "      <td>0</td>\n",
              "      <td>0</td>\n",
              "      <td>0</td>\n",
              "      <td>0</td>\n",
              "      <td>0</td>\n",
              "      <td>0</td>\n",
              "      <td>0</td>\n",
              "      <td>0</td>\n",
              "    </tr>\n",
              "    <tr>\n",
              "      <th>183</th>\n",
              "      <td>0</td>\n",
              "      <td>0</td>\n",
              "      <td>0</td>\n",
              "      <td>0</td>\n",
              "      <td>0</td>\n",
              "      <td>0</td>\n",
              "      <td>0</td>\n",
              "      <td>0</td>\n",
              "      <td>0</td>\n",
              "      <td>0</td>\n",
              "      <td>...</td>\n",
              "      <td>0</td>\n",
              "      <td>0</td>\n",
              "      <td>0</td>\n",
              "      <td>0</td>\n",
              "      <td>2</td>\n",
              "      <td>2</td>\n",
              "      <td>0</td>\n",
              "      <td>0</td>\n",
              "      <td>0</td>\n",
              "      <td>0</td>\n",
              "    </tr>\n",
              "    <tr>\n",
              "      <th>184</th>\n",
              "      <td>0</td>\n",
              "      <td>0</td>\n",
              "      <td>0</td>\n",
              "      <td>0</td>\n",
              "      <td>0</td>\n",
              "      <td>0</td>\n",
              "      <td>0</td>\n",
              "      <td>0</td>\n",
              "      <td>0</td>\n",
              "      <td>0</td>\n",
              "      <td>...</td>\n",
              "      <td>0</td>\n",
              "      <td>0</td>\n",
              "      <td>0</td>\n",
              "      <td>0</td>\n",
              "      <td>0</td>\n",
              "      <td>0</td>\n",
              "      <td>0</td>\n",
              "      <td>0</td>\n",
              "      <td>0</td>\n",
              "      <td>0</td>\n",
              "    </tr>\n",
              "    <tr>\n",
              "      <th>185</th>\n",
              "      <td>0</td>\n",
              "      <td>0</td>\n",
              "      <td>0</td>\n",
              "      <td>0</td>\n",
              "      <td>0</td>\n",
              "      <td>0</td>\n",
              "      <td>0</td>\n",
              "      <td>0</td>\n",
              "      <td>0</td>\n",
              "      <td>0</td>\n",
              "      <td>...</td>\n",
              "      <td>0</td>\n",
              "      <td>0</td>\n",
              "      <td>0</td>\n",
              "      <td>0</td>\n",
              "      <td>0</td>\n",
              "      <td>0</td>\n",
              "      <td>0</td>\n",
              "      <td>0</td>\n",
              "      <td>0</td>\n",
              "      <td>0</td>\n",
              "    </tr>\n",
              "  </tbody>\n",
              "</table>\n",
              "<p>186 rows × 2064 columns</p>\n",
              "</div>\n",
              "      <button class=\"colab-df-convert\" onclick=\"convertToInteractive('df-cc684d0d-97bd-41ab-9e6a-5c4d7978dfe0')\"\n",
              "              title=\"Convert this dataframe to an interactive table.\"\n",
              "              style=\"display:none;\">\n",
              "        \n",
              "  <svg xmlns=\"http://www.w3.org/2000/svg\" height=\"24px\"viewBox=\"0 0 24 24\"\n",
              "       width=\"24px\">\n",
              "    <path d=\"M0 0h24v24H0V0z\" fill=\"none\"/>\n",
              "    <path d=\"M18.56 5.44l.94 2.06.94-2.06 2.06-.94-2.06-.94-.94-2.06-.94 2.06-2.06.94zm-11 1L8.5 8.5l.94-2.06 2.06-.94-2.06-.94L8.5 2.5l-.94 2.06-2.06.94zm10 10l.94 2.06.94-2.06 2.06-.94-2.06-.94-.94-2.06-.94 2.06-2.06.94z\"/><path d=\"M17.41 7.96l-1.37-1.37c-.4-.4-.92-.59-1.43-.59-.52 0-1.04.2-1.43.59L10.3 9.45l-7.72 7.72c-.78.78-.78 2.05 0 2.83L4 21.41c.39.39.9.59 1.41.59.51 0 1.02-.2 1.41-.59l7.78-7.78 2.81-2.81c.8-.78.8-2.07 0-2.86zM5.41 20L4 18.59l7.72-7.72 1.47 1.35L5.41 20z\"/>\n",
              "  </svg>\n",
              "      </button>\n",
              "      \n",
              "  <style>\n",
              "    .colab-df-container {\n",
              "      display:flex;\n",
              "      flex-wrap:wrap;\n",
              "      gap: 12px;\n",
              "    }\n",
              "\n",
              "    .colab-df-convert {\n",
              "      background-color: #E8F0FE;\n",
              "      border: none;\n",
              "      border-radius: 50%;\n",
              "      cursor: pointer;\n",
              "      display: none;\n",
              "      fill: #1967D2;\n",
              "      height: 32px;\n",
              "      padding: 0 0 0 0;\n",
              "      width: 32px;\n",
              "    }\n",
              "\n",
              "    .colab-df-convert:hover {\n",
              "      background-color: #E2EBFA;\n",
              "      box-shadow: 0px 1px 2px rgba(60, 64, 67, 0.3), 0px 1px 3px 1px rgba(60, 64, 67, 0.15);\n",
              "      fill: #174EA6;\n",
              "    }\n",
              "\n",
              "    [theme=dark] .colab-df-convert {\n",
              "      background-color: #3B4455;\n",
              "      fill: #D2E3FC;\n",
              "    }\n",
              "\n",
              "    [theme=dark] .colab-df-convert:hover {\n",
              "      background-color: #434B5C;\n",
              "      box-shadow: 0px 1px 3px 1px rgba(0, 0, 0, 0.15);\n",
              "      filter: drop-shadow(0px 1px 2px rgba(0, 0, 0, 0.3));\n",
              "      fill: #FFFFFF;\n",
              "    }\n",
              "  </style>\n",
              "\n",
              "      <script>\n",
              "        const buttonEl =\n",
              "          document.querySelector('#df-cc684d0d-97bd-41ab-9e6a-5c4d7978dfe0 button.colab-df-convert');\n",
              "        buttonEl.style.display =\n",
              "          google.colab.kernel.accessAllowed ? 'block' : 'none';\n",
              "\n",
              "        async function convertToInteractive(key) {\n",
              "          const element = document.querySelector('#df-cc684d0d-97bd-41ab-9e6a-5c4d7978dfe0');\n",
              "          const dataTable =\n",
              "            await google.colab.kernel.invokeFunction('convertToInteractive',\n",
              "                                                     [key], {});\n",
              "          if (!dataTable) return;\n",
              "\n",
              "          const docLinkHtml = 'Like what you see? Visit the ' +\n",
              "            '<a target=\"_blank\" href=https://colab.research.google.com/notebooks/data_table.ipynb>data table notebook</a>'\n",
              "            + ' to learn more about interactive tables.';\n",
              "          element.innerHTML = '';\n",
              "          dataTable['output_type'] = 'display_data';\n",
              "          await google.colab.output.renderOutput(dataTable, element);\n",
              "          const docLink = document.createElement('div');\n",
              "          docLink.innerHTML = docLinkHtml;\n",
              "          element.appendChild(docLink);\n",
              "        }\n",
              "      </script>\n",
              "    </div>\n",
              "  </div>\n",
              "  "
            ]
          },
          "metadata": {},
          "execution_count": 17
        }
      ]
    },
    {
      "cell_type": "markdown",
      "source": [
        "# Visualize the most common words"
      ],
      "metadata": {
        "id": "skabgR0cHSuW"
      }
    },
    {
      "cell_type": "code",
      "source": [
        "top_n = 20\n",
        "# sum the term counts in each column of the dtm_tf data frame and then sort in descending order\n",
        "sorted_terms = dtm_tf.sum().sort_values(ascending = False)\n",
        "\n",
        "plt.title(\"Top {} Most Common Words in Beatles Lyrics\".format(top_n), fontsize=20)\n",
        "plt.xticks(fontsize=20)\n",
        "plt.yticks(fontsize=20)\n",
        "sorted_terms[:top_n].plot(kind='bar', figsize=(30,10));"
      ],
      "metadata": {
        "colab": {
          "base_uri": "https://localhost:8080/",
          "height": 660
        },
        "id": "Kd-_zoSiHV38",
        "outputId": "c3c5c3a5-eab4-4b98-af3a-37b85ae39a92"
      },
      "execution_count": null,
      "outputs": [
        {
          "output_type": "display_data",
          "data": {
            "text/plain": [
              "<Figure size 2160x720 with 1 Axes>"
            ],
            "image/png": "[encoded data removed]"
          },
          "metadata": {
            "needs_background": "light"
          }
        }
      ]
    },
    {
      "cell_type": "code",
      "source": [
        "#TFIDF Vectorizer\n",
        "\n",
        "tfidf = TfidfVectorizer(stop_words='english', tokenizer=word_tokenize)\n",
        "tfidf = tfidf.fit(beatles['TOKEN_LYRICS'])\n",
        "dtm_tfidf = tfidf.transform(beatles['TOKEN_LYRICS']).toarray()\n",
        "dtm_tfidf = pd.DataFrame(data = dtm_tfidf, columns=vect.get_feature_names())"
      ],
      "metadata": {
        "colab": {
          "base_uri": "https://localhost:8080/"
        },
        "id": "pft8r6TgOEGq",
        "outputId": "cf5209d1-1ec2-49b6-dd2a-642b87178de6"
      },
      "execution_count": null,
      "outputs": [
        {
          "output_type": "stream",
          "name": "stderr",
          "text": [
            "/usr/local/lib/python3.7/dist-packages/sklearn/feature_extraction/text.py:517: UserWarning: The parameter 'token_pattern' will not be used since 'tokenizer' is not None'\n",
            "  \"The parameter 'token_pattern' will not be used\"\n",
            "/usr/local/lib/python3.7/dist-packages/sklearn/utils/deprecation.py:87: FutureWarning: Function get_feature_names is deprecated; get_feature_names is deprecated in 1.0 and will be removed in 1.2. Please use get_feature_names_out instead.\n",
            "  warnings.warn(msg, category=FutureWarning)\n"
          ]
        }
      ]
    },
    {
      "cell_type": "code",
      "source": [
        "dtm_tfidf"
      ],
      "metadata": {
        "colab": {
          "base_uri": "https://localhost:8080/",
          "height": 424
        },
        "id": "BqCWWPJlOFPU",
        "outputId": "7c008e99-6242-4136-a090-2ff2a58b8f8a"
      },
      "execution_count": null,
      "outputs": [
        {
          "output_type": "execute_result",
          "data": {
            "text/plain": [
              "     1234  56789  aaaaah    aaahhh  able  abord  accidents  aches  act  acts  \\\n",
              "0     0.0    0.0     0.0  0.000000   0.0    0.0        0.0    0.0  0.0   0.0   \n",
              "1     0.0    0.0     0.0  0.000000   0.0    0.0        0.0    0.0  0.0   0.0   \n",
              "2     0.0    0.0     0.0  0.000000   0.0    0.0        0.0    0.0  0.0   0.0   \n",
              "3     0.0    0.0     0.0  0.000000   0.0    0.0        0.0    0.0  0.0   0.0   \n",
              "4     0.0    0.0     0.0  0.062536   0.0    0.0        0.0    0.0  0.0   0.0   \n",
              "..    ...    ...     ...       ...   ...    ...        ...    ...  ...   ...   \n",
              "181   0.0    0.0     0.0  0.000000   0.0    0.0        0.0    0.0  0.0   0.0   \n",
              "182   0.0    0.0     0.0  0.000000   0.0    0.0        0.0    0.0  0.0   0.0   \n",
              "183   0.0    0.0     0.0  0.000000   0.0    0.0        0.0    0.0  0.0   0.0   \n",
              "184   0.0    0.0     0.0  0.000000   0.0    0.0        0.0    0.0  0.0   0.0   \n",
              "185   0.0    0.0     0.0  0.000000   0.0    0.0        0.0    0.0  0.0   0.0   \n",
              "\n",
              "     ...  young  younger  youoooo  youoooooo     youre     youve  \\\n",
              "0    ...    0.0      0.0      0.0        0.0  0.000000  0.000000   \n",
              "1    ...    0.0      0.0      0.0        0.0  0.000000  0.000000   \n",
              "2    ...    0.0      0.0      0.0        0.0  0.140122  0.000000   \n",
              "3    ...    0.0      0.0      0.0        0.0  0.000000  0.000000   \n",
              "4    ...    0.0      0.0      0.0        0.0  0.000000  0.000000   \n",
              "..   ...    ...      ...      ...        ...       ...       ...   \n",
              "181  ...    0.0      0.0      0.0        0.0  0.000000  0.000000   \n",
              "182  ...    0.0      0.0      0.0        0.0  0.000000  0.000000   \n",
              "183  ...    0.0      0.0      0.0        0.0  0.045161  0.059528   \n",
              "184  ...    0.0      0.0      0.0        0.0  0.000000  0.000000   \n",
              "185  ...    0.0      0.0      0.0        0.0  0.000000  0.000000   \n",
              "\n",
              "     youyouyouyou  zapped  zoo  zoom  \n",
              "0             0.0     0.0  0.0   0.0  \n",
              "1             0.0     0.0  0.0   0.0  \n",
              "2             0.0     0.0  0.0   0.0  \n",
              "3             0.0     0.0  0.0   0.0  \n",
              "4             0.0     0.0  0.0   0.0  \n",
              "..            ...     ...  ...   ...  \n",
              "181           0.0     0.0  0.0   0.0  \n",
              "182           0.0     0.0  0.0   0.0  \n",
              "183           0.0     0.0  0.0   0.0  \n",
              "184           0.0     0.0  0.0   0.0  \n",
              "185           0.0     0.0  0.0   0.0  \n",
              "\n",
              "[186 rows x 2064 columns]"
            ],
            "text/html": [
              "\n",
              "  <div id=\"df-8b104c23-d646-4af1-8ad0-de63fae1a9c5\">\n",
              "    <div class=\"colab-df-container\">\n",
              "      <div>\n",
              "<style scoped>\n",
              "    .dataframe tbody tr th:only-of-type {\n",
              "        vertical-align: middle;\n",
              "    }\n",
              "\n",
              "    .dataframe tbody tr th {\n",
              "        vertical-align: top;\n",
              "    }\n",
              "\n",
              "    .dataframe thead th {\n",
              "        text-align: right;\n",
              "    }\n",
              "</style>\n",
              "<table border=\"1\" class=\"dataframe\">\n",
              "  <thead>\n",
              "    <tr style=\"text-align: right;\">\n",
              "      <th></th>\n",
              "      <th>1234</th>\n",
              "      <th>56789</th>\n",
              "      <th>aaaaah</th>\n",
              "      <th>aaahhh</th>\n",
              "      <th>able</th>\n",
              "      <th>abord</th>\n",
              "      <th>accidents</th>\n",
              "      <th>aches</th>\n",
              "      <th>act</th>\n",
              "      <th>acts</th>\n",
              "      <th>...</th>\n",
              "      <th>young</th>\n",
              "      <th>younger</th>\n",
              "      <th>youoooo</th>\n",
              "      <th>youoooooo</th>\n",
              "      <th>youre</th>\n",
              "      <th>youve</th>\n",
              "      <th>youyouyouyou</th>\n",
              "      <th>zapped</th>\n",
              "      <th>zoo</th>\n",
              "      <th>zoom</th>\n",
              "    </tr>\n",
              "  </thead>\n",
              "  <tbody>\n",
              "    <tr>\n",
              "      <th>0</th>\n",
              "      <td>0.0</td>\n",
              "      <td>0.0</td>\n",
              "      <td>0.0</td>\n",
              "      <td>0.000000</td>\n",
              "      <td>0.0</td>\n",
              "      <td>0.0</td>\n",
              "      <td>0.0</td>\n",
              "      <td>0.0</td>\n",
              "      <td>0.0</td>\n",
              "      <td>0.0</td>\n",
              "      <td>...</td>\n",
              "      <td>0.0</td>\n",
              "      <td>0.0</td>\n",
              "      <td>0.0</td>\n",
              "      <td>0.0</td>\n",
              "      <td>0.000000</td>\n",
              "      <td>0.000000</td>\n",
              "      <td>0.0</td>\n",
              "      <td>0.0</td>\n",
              "      <td>0.0</td>\n",
              "      <td>0.0</td>\n",
              "    </tr>\n",
              "    <tr>\n",
              "      <th>1</th>\n",
              "      <td>0.0</td>\n",
              "      <td>0.0</td>\n",
              "      <td>0.0</td>\n",
              "      <td>0.000000</td>\n",
              "      <td>0.0</td>\n",
              "      <td>0.0</td>\n",
              "      <td>0.0</td>\n",
              "      <td>0.0</td>\n",
              "      <td>0.0</td>\n",
              "      <td>0.0</td>\n",
              "      <td>...</td>\n",
              "      <td>0.0</td>\n",
              "      <td>0.0</td>\n",
              "      <td>0.0</td>\n",
              "      <td>0.0</td>\n",
              "      <td>0.000000</td>\n",
              "      <td>0.000000</td>\n",
              "      <td>0.0</td>\n",
              "      <td>0.0</td>\n",
              "      <td>0.0</td>\n",
              "      <td>0.0</td>\n",
              "    </tr>\n",
              "    <tr>\n",
              "      <th>2</th>\n",
              "      <td>0.0</td>\n",
              "      <td>0.0</td>\n",
              "      <td>0.0</td>\n",
              "      <td>0.000000</td>\n",
              "      <td>0.0</td>\n",
              "      <td>0.0</td>\n",
              "      <td>0.0</td>\n",
              "      <td>0.0</td>\n",
              "      <td>0.0</td>\n",
              "      <td>0.0</td>\n",
              "      <td>...</td>\n",
              "      <td>0.0</td>\n",
              "      <td>0.0</td>\n",
              "      <td>0.0</td>\n",
              "      <td>0.0</td>\n",
              "      <td>0.140122</td>\n",
              "      <td>0.000000</td>\n",
              "      <td>0.0</td>\n",
              "      <td>0.0</td>\n",
              "      <td>0.0</td>\n",
              "      <td>0.0</td>\n",
              "    </tr>\n",
              "    <tr>\n",
              "      <th>3</th>\n",
              "      <td>0.0</td>\n",
              "      <td>0.0</td>\n",
              "      <td>0.0</td>\n",
              "      <td>0.000000</td>\n",
              "      <td>0.0</td>\n",
              "      <td>0.0</td>\n",
              "      <td>0.0</td>\n",
              "      <td>0.0</td>\n",
              "      <td>0.0</td>\n",
              "      <td>0.0</td>\n",
              "      <td>...</td>\n",
              "      <td>0.0</td>\n",
              "      <td>0.0</td>\n",
              "      <td>0.0</td>\n",
              "      <td>0.0</td>\n",
              "      <td>0.000000</td>\n",
              "      <td>0.000000</td>\n",
              "      <td>0.0</td>\n",
              "      <td>0.0</td>\n",
              "      <td>0.0</td>\n",
              "      <td>0.0</td>\n",
              "    </tr>\n",
              "    <tr>\n",
              "      <th>4</th>\n",
              "      <td>0.0</td>\n",
              "      <td>0.0</td>\n",
              "      <td>0.0</td>\n",
              "      <td>0.062536</td>\n",
              "      <td>0.0</td>\n",
              "      <td>0.0</td>\n",
              "      <td>0.0</td>\n",
              "      <td>0.0</td>\n",
              "      <td>0.0</td>\n",
              "      <td>0.0</td>\n",
              "      <td>...</td>\n",
              "      <td>0.0</td>\n",
              "      <td>0.0</td>\n",
              "      <td>0.0</td>\n",
              "      <td>0.0</td>\n",
              "      <td>0.000000</td>\n",
              "      <td>0.000000</td>\n",
              "      <td>0.0</td>\n",
              "      <td>0.0</td>\n",
              "      <td>0.0</td>\n",
              "      <td>0.0</td>\n",
              "    </tr>\n",
              "    <tr>\n",
              "      <th>...</th>\n",
              "      <td>...</td>\n",
              "      <td>...</td>\n",
              "      <td>...</td>\n",
              "      <td>...</td>\n",
              "      <td>...</td>\n",
              "      <td>...</td>\n",
              "      <td>...</td>\n",
              "      <td>...</td>\n",
              "      <td>...</td>\n",
              "      <td>...</td>\n",
              "      <td>...</td>\n",
              "      <td>...</td>\n",
              "      <td>...</td>\n",
              "      <td>...</td>\n",
              "      <td>...</td>\n",
              "      <td>...</td>\n",
              "      <td>...</td>\n",
              "      <td>...</td>\n",
              "      <td>...</td>\n",
              "      <td>...</td>\n",
              "      <td>...</td>\n",
              "    </tr>\n",
              "    <tr>\n",
              "      <th>181</th>\n",
              "      <td>0.0</td>\n",
              "      <td>0.0</td>\n",
              "      <td>0.0</td>\n",
              "      <td>0.000000</td>\n",
              "      <td>0.0</td>\n",
              "      <td>0.0</td>\n",
              "      <td>0.0</td>\n",
              "      <td>0.0</td>\n",
              "      <td>0.0</td>\n",
              "      <td>0.0</td>\n",
              "      <td>...</td>\n",
              "      <td>0.0</td>\n",
              "      <td>0.0</td>\n",
              "      <td>0.0</td>\n",
              "      <td>0.0</td>\n",
              "      <td>0.000000</td>\n",
              "      <td>0.000000</td>\n",
              "      <td>0.0</td>\n",
              "      <td>0.0</td>\n",
              "      <td>0.0</td>\n",
              "      <td>0.0</td>\n",
              "    </tr>\n",
              "    <tr>\n",
              "      <th>182</th>\n",
              "      <td>0.0</td>\n",
              "      <td>0.0</td>\n",
              "      <td>0.0</td>\n",
              "      <td>0.000000</td>\n",
              "      <td>0.0</td>\n",
              "      <td>0.0</td>\n",
              "      <td>0.0</td>\n",
              "      <td>0.0</td>\n",
              "      <td>0.0</td>\n",
              "      <td>0.0</td>\n",
              "      <td>...</td>\n",
              "      <td>0.0</td>\n",
              "      <td>0.0</td>\n",
              "      <td>0.0</td>\n",
              "      <td>0.0</td>\n",
              "      <td>0.000000</td>\n",
              "      <td>0.000000</td>\n",
              "      <td>0.0</td>\n",
              "      <td>0.0</td>\n",
              "      <td>0.0</td>\n",
              "      <td>0.0</td>\n",
              "    </tr>\n",
              "    <tr>\n",
              "      <th>183</th>\n",
              "      <td>0.0</td>\n",
              "      <td>0.0</td>\n",
              "      <td>0.0</td>\n",
              "      <td>0.000000</td>\n",
              "      <td>0.0</td>\n",
              "      <td>0.0</td>\n",
              "      <td>0.0</td>\n",
              "      <td>0.0</td>\n",
              "      <td>0.0</td>\n",
              "      <td>0.0</td>\n",
              "      <td>...</td>\n",
              "      <td>0.0</td>\n",
              "      <td>0.0</td>\n",
              "      <td>0.0</td>\n",
              "      <td>0.0</td>\n",
              "      <td>0.045161</td>\n",
              "      <td>0.059528</td>\n",
              "      <td>0.0</td>\n",
              "      <td>0.0</td>\n",
              "      <td>0.0</td>\n",
              "      <td>0.0</td>\n",
              "    </tr>\n",
              "    <tr>\n",
              "      <th>184</th>\n",
              "      <td>0.0</td>\n",
              "      <td>0.0</td>\n",
              "      <td>0.0</td>\n",
              "      <td>0.000000</td>\n",
              "      <td>0.0</td>\n",
              "      <td>0.0</td>\n",
              "      <td>0.0</td>\n",
              "      <td>0.0</td>\n",
              "      <td>0.0</td>\n",
              "      <td>0.0</td>\n",
              "      <td>...</td>\n",
              "      <td>0.0</td>\n",
              "      <td>0.0</td>\n",
              "      <td>0.0</td>\n",
              "      <td>0.0</td>\n",
              "      <td>0.000000</td>\n",
              "      <td>0.000000</td>\n",
              "      <td>0.0</td>\n",
              "      <td>0.0</td>\n",
              "      <td>0.0</td>\n",
              "      <td>0.0</td>\n",
              "    </tr>\n",
              "    <tr>\n",
              "      <th>185</th>\n",
              "      <td>0.0</td>\n",
              "      <td>0.0</td>\n",
              "      <td>0.0</td>\n",
              "      <td>0.000000</td>\n",
              "      <td>0.0</td>\n",
              "      <td>0.0</td>\n",
              "      <td>0.0</td>\n",
              "      <td>0.0</td>\n",
              "      <td>0.0</td>\n",
              "      <td>0.0</td>\n",
              "      <td>...</td>\n",
              "      <td>0.0</td>\n",
              "      <td>0.0</td>\n",
              "      <td>0.0</td>\n",
              "      <td>0.0</td>\n",
              "      <td>0.000000</td>\n",
              "      <td>0.000000</td>\n",
              "      <td>0.0</td>\n",
              "      <td>0.0</td>\n",
              "      <td>0.0</td>\n",
              "      <td>0.0</td>\n",
              "    </tr>\n",
              "  </tbody>\n",
              "</table>\n",
              "<p>186 rows × 2064 columns</p>\n",
              "</div>\n",
              "      <button class=\"colab-df-convert\" onclick=\"convertToInteractive('df-8b104c23-d646-4af1-8ad0-de63fae1a9c5')\"\n",
              "              title=\"Convert this dataframe to an interactive table.\"\n",
              "              style=\"display:none;\">\n",
              "        \n",
              "  <svg xmlns=\"http://www.w3.org/2000/svg\" height=\"24px\"viewBox=\"0 0 24 24\"\n",
              "       width=\"24px\">\n",
              "    <path d=\"M0 0h24v24H0V0z\" fill=\"none\"/>\n",
              "    <path d=\"M18.56 5.44l.94 2.06.94-2.06 2.06-.94-2.06-.94-.94-2.06-.94 2.06-2.06.94zm-11 1L8.5 8.5l.94-2.06 2.06-.94-2.06-.94L8.5 2.5l-.94 2.06-2.06.94zm10 10l.94 2.06.94-2.06 2.06-.94-2.06-.94-.94-2.06-.94 2.06-2.06.94z\"/><path d=\"M17.41 7.96l-1.37-1.37c-.4-.4-.92-.59-1.43-.59-.52 0-1.04.2-1.43.59L10.3 9.45l-7.72 7.72c-.78.78-.78 2.05 0 2.83L4 21.41c.39.39.9.59 1.41.59.51 0 1.02-.2 1.41-.59l7.78-7.78 2.81-2.81c.8-.78.8-2.07 0-2.86zM5.41 20L4 18.59l7.72-7.72 1.47 1.35L5.41 20z\"/>\n",
              "  </svg>\n",
              "      </button>\n",
              "      \n",
              "  <style>\n",
              "    .colab-df-container {\n",
              "      display:flex;\n",
              "      flex-wrap:wrap;\n",
              "      gap: 12px;\n",
              "    }\n",
              "\n",
              "    .colab-df-convert {\n",
              "      background-color: #E8F0FE;\n",
              "      border: none;\n",
              "      border-radius: 50%;\n",
              "      cursor: pointer;\n",
              "      display: none;\n",
              "      fill: #1967D2;\n",
              "      height: 32px;\n",
              "      padding: 0 0 0 0;\n",
              "      width: 32px;\n",
              "    }\n",
              "\n",
              "    .colab-df-convert:hover {\n",
              "      background-color: #E2EBFA;\n",
              "      box-shadow: 0px 1px 2px rgba(60, 64, 67, 0.3), 0px 1px 3px 1px rgba(60, 64, 67, 0.15);\n",
              "      fill: #174EA6;\n",
              "    }\n",
              "\n",
              "    [theme=dark] .colab-df-convert {\n",
              "      background-color: #3B4455;\n",
              "      fill: #D2E3FC;\n",
              "    }\n",
              "\n",
              "    [theme=dark] .colab-df-convert:hover {\n",
              "      background-color: #434B5C;\n",
              "      box-shadow: 0px 1px 3px 1px rgba(0, 0, 0, 0.15);\n",
              "      filter: drop-shadow(0px 1px 2px rgba(0, 0, 0, 0.3));\n",
              "      fill: #FFFFFF;\n",
              "    }\n",
              "  </style>\n",
              "\n",
              "      <script>\n",
              "        const buttonEl =\n",
              "          document.querySelector('#df-8b104c23-d646-4af1-8ad0-de63fae1a9c5 button.colab-df-convert');\n",
              "        buttonEl.style.display =\n",
              "          google.colab.kernel.accessAllowed ? 'block' : 'none';\n",
              "\n",
              "        async function convertToInteractive(key) {\n",
              "          const element = document.querySelector('#df-8b104c23-d646-4af1-8ad0-de63fae1a9c5');\n",
              "          const dataTable =\n",
              "            await google.colab.kernel.invokeFunction('convertToInteractive',\n",
              "                                                     [key], {});\n",
              "          if (!dataTable) return;\n",
              "\n",
              "          const docLinkHtml = 'Like what you see? Visit the ' +\n",
              "            '<a target=\"_blank\" href=https://colab.research.google.com/notebooks/data_table.ipynb>data table notebook</a>'\n",
              "            + ' to learn more about interactive tables.';\n",
              "          element.innerHTML = '';\n",
              "          dataTable['output_type'] = 'display_data';\n",
              "          await google.colab.output.renderOutput(dataTable, element);\n",
              "          const docLink = document.createElement('div');\n",
              "          docLink.innerHTML = docLinkHtml;\n",
              "          element.appendChild(docLink);\n",
              "        }\n",
              "      </script>\n",
              "    </div>\n",
              "  </div>\n",
              "  "
            ]
          },
          "metadata": {},
          "execution_count": 20
        }
      ]
    },
    {
      "cell_type": "code",
      "source": [
        "top_n = 20\n",
        "# sum the term counts in each column of the dtm_tf data frame and then sort in descending order\n",
        "sorted_terms = dtm_tfidf.sum().sort_values(ascending = False)\n",
        "\n",
        "plt.title(\"Top {} Most Common Words in Beatles Lyrics\".format(top_n), fontsize=20)\n",
        "plt.xticks(fontsize=20)\n",
        "plt.yticks(fontsize=20)\n",
        "sorted_terms[:top_n].plot(kind='bar', figsize=(30,10));"
      ],
      "metadata": {
        "colab": {
          "base_uri": "https://localhost:8080/",
          "height": 660
        },
        "id": "KK3pTe_oOIEU",
        "outputId": "9f2d9d0e-a8e1-4f6a-e5df-7c09ed356f60"
      },
      "execution_count": null,
      "outputs": [
        {
          "output_type": "display_data",
          "data": {
            "text/plain": [
              "<Figure size 2160x720 with 1 Axes>"
            ],
            "image/png": "[encoded data removed]"
          },
          "metadata": {
            "needs_background": "light"
          }
        }
      ]
    },
    {
      "cell_type": "markdown",
      "source": [
        "# NearestNeighbor Model\n",
        "compare how close popular solo John Lennon & Paul McCartney Songs are lyrically to The Beatles\n"
      ],
      "metadata": {
        "id": "cKhtl1UmLosM"
      }
    },
    {
      "cell_type": "code",
      "source": [
        "Lennon = [\"Imagine there's no heaven It's easy if you try No hell below us Above us only sky Imagine all the people Living for today\"]\n",
        "\n",
        "# vectorize song using your fitted tfidf vectorizer \n",
        "lyric_compare_lennon = tfidf.transform(Lennon).toarray()\n",
        "\n",
        "song_number = 10\n",
        "nn=NearestNeighbors(n_neighbors=song_number)\n",
        "nn.fit(dtm_tfidf)\n",
        "\n",
        "n_dist, n_ind = nn.kneighbors(lyric_compare_lennon)\n"
      ],
      "metadata": {
        "colab": {
          "base_uri": "https://localhost:8080/"
        },
        "id": "jk43I25_Lq7s",
        "outputId": "b7ee01fe-8544-440a-cde3-d163a5a356b3"
      },
      "execution_count": null,
      "outputs": [
        {
          "output_type": "stream",
          "name": "stderr",
          "text": [
            "/usr/local/lib/python3.7/dist-packages/sklearn/base.py:451: UserWarning: X does not have valid feature names, but NearestNeighbors was fitted with feature names\n",
            "  \"X does not have valid feature names, but\"\n"
          ]
        }
      ]
    },
    {
      "cell_type": "code",
      "source": [
        "n_dist"
      ],
      "metadata": {
        "colab": {
          "base_uri": "https://localhost:8080/"
        },
        "id": "uFuReVGmQNPx",
        "outputId": "77f8ad17-5e48-421f-b072-badcce9e5fae"
      },
      "execution_count": null,
      "outputs": [
        {
          "output_type": "execute_result",
          "data": {
            "text/plain": [
              "array([[1.26113426, 1.29978635, 1.31825791, 1.32396293, 1.32909112,\n",
              "        1.333411  , 1.34524276, 1.34650741, 1.35748677, 1.35767599]])"
            ]
          },
          "metadata": {},
          "execution_count": 23
        }
      ]
    },
    {
      "cell_type": "code",
      "source": [
        "n_ind"
      ],
      "metadata": {
        "colab": {
          "base_uri": "https://localhost:8080/"
        },
        "id": "w0LBv03xQg-y",
        "outputId": "0bc501b5-b4e9-4034-9d5f-2380769b916c"
      },
      "execution_count": null,
      "outputs": [
        {
          "output_type": "execute_result",
          "data": {
            "text/plain": [
              "array([[127,  85, 109, 173,  35,  34,  97, 103,  73, 157]])"
            ]
          },
          "metadata": {},
          "execution_count": 24
        }
      ]
    },
    {
      "cell_type": "code",
      "source": [
        "beatles[\"LYRICS\"][157]"
      ],
      "metadata": {
        "colab": {
          "base_uri": "https://localhost:8080/",
          "height": 53
        },
        "id": "84CoC5cDYQO0",
        "outputId": "f8487087-b62e-47f7-e77b-f4ace3ce9b13"
      },
      "execution_count": null,
      "outputs": [
        {
          "output_type": "execute_result",
          "data": {
            "text/plain": [
              "'ah because the world is round it turns me on because the world is round because the wind is high it blows my mind because the wind is high ah love is old love is new love is all love is you because the sky is blue it makes me cry because the sky is blue ah ah ah ah'"
            ],
            "application/vnd.google.colaboratory.intrinsic+json": {
              "type": "string"
            }
          },
          "metadata": {},
          "execution_count": 40
        }
      ]
    },
    {
      "cell_type": "code",
      "source": [
        "beatles[\"TOKEN_LYRICS\"][73]"
      ],
      "metadata": {
        "colab": {
          "base_uri": "https://localhost:8080/",
          "height": 53
        },
        "id": "uTpkK-cORaYt",
        "outputId": "7e35a353-fea7-4a6a-c85a-114f7280c6e5"
      },
      "execution_count": null,
      "outputs": [
        {
          "output_type": "execute_result",
          "data": {
            "text/plain": [
              "'places remember life though changed forever better gone remain places moments lovers friends still recall dead living life ive loved friends lovers one compares memries lose meaning think love something new though know ill never lose affection people things went know ill often stop think life ill love though know ill never lose affection people things went know ill often stop think life ill love life ill love'"
            ],
            "application/vnd.google.colaboratory.intrinsic+json": {
              "type": "string"
            }
          },
          "metadata": {},
          "execution_count": 39
        }
      ]
    },
    {
      "cell_type": "code",
      "source": [
        "McCartney = [\"You'd think that people would have had enough of silly love songs\"]"
      ],
      "metadata": {
        "id": "D0uSuTnnSmWG"
      },
      "execution_count": null,
      "outputs": []
    },
    {
      "cell_type": "code",
      "source": [
        "# vectorize song using your fitted tfidf vectorizer \n",
        "lyric_compare_McCartney = tfidf.transform(McCartney).toarray()\n",
        "\n",
        "song_number = 10\n",
        "nn=NearestNeighbors(n_neighbors=song_number)\n",
        "nn.fit(dtm_tfidf)\n",
        "\n",
        "n_dist, n_ind = nn.kneighbors(lyric_compare_McCartney)\n"
      ],
      "metadata": {
        "colab": {
          "base_uri": "https://localhost:8080/"
        },
        "id": "T7AXrxNLS4KM",
        "outputId": "61828648-1fa8-41c8-fcfd-625ba5ee9f1d"
      },
      "execution_count": null,
      "outputs": [
        {
          "output_type": "stream",
          "name": "stderr",
          "text": [
            "/usr/local/lib/python3.7/dist-packages/sklearn/base.py:451: UserWarning: X does not have valid feature names, but NearestNeighbors was fitted with feature names\n",
            "  \"X does not have valid feature names, but\"\n"
          ]
        }
      ]
    },
    {
      "cell_type": "code",
      "source": [
        "n_dist"
      ],
      "metadata": {
        "colab": {
          "base_uri": "https://localhost:8080/"
        },
        "id": "8wqzS2TDTAXb",
        "outputId": "39d5444e-bf53-4a99-f5a6-3dba2e8683b0"
      },
      "execution_count": null,
      "outputs": [
        {
          "output_type": "execute_result",
          "data": {
            "text/plain": [
              "array([[1.17966726, 1.19245857, 1.25863324, 1.28703326, 1.29467319,\n",
              "        1.29514035, 1.29514035, 1.3194326 , 1.32487449, 1.32910386]])"
            ]
          },
          "metadata": {},
          "execution_count": 30
        }
      ]
    },
    {
      "cell_type": "code",
      "source": [
        "n_ind"
      ],
      "metadata": {
        "colab": {
          "base_uri": "https://localhost:8080/"
        },
        "id": "jgwHQvEhTAt2",
        "outputId": "7bfa0a63-401b-429f-db16-bd3916597b56"
      },
      "execution_count": null,
      "outputs": [
        {
          "output_type": "execute_result",
          "data": {
            "text/plain": [
              "array([[137,  92,  85,  73,   8, 110, 152, 109,  33,  29]])"
            ]
          },
          "metadata": {},
          "execution_count": 31
        }
      ]
    },
    {
      "cell_type": "code",
      "source": [
        "beatles[\"LYRICS\"][29]"
      ],
      "metadata": {
        "colab": {
          "base_uri": "https://localhost:8080/",
          "height": 70
        },
        "id": "6y0SaEjZYfDf",
        "outputId": "e113ad80-3a0b-4f40-f051-878b8e5a51d6"
      },
      "execution_count": null,
      "outputs": [
        {
          "output_type": "execute_result",
          "data": {
            "text/plain": [
              "'i give her all my love thats all i do and if you saw my love youd love her too i love her  she gives me everything and tenderly the kiss my lover brings she brings to me and i love her  a love like ours could never die as long i have you near me  bright are the stars that shine dark is the sky i know this love of mine will never die and i love her  bright are the stars that shine dark is the sky i know this love of mine will never die and i love her'"
            ],
            "application/vnd.google.colaboratory.intrinsic+json": {
              "type": "string"
            }
          },
          "metadata": {},
          "execution_count": 32
        }
      ]
    },
    {
      "cell_type": "code",
      "source": [
        "beatles[\"TOKEN_LYRICS\"][110]"
      ],
      "metadata": {
        "colab": {
          "base_uri": "https://localhost:8080/",
          "height": 70
        },
        "id": "pUNLJtRtWhLR",
        "outputId": "94a686a4-9185-438c-a0e8-fd8c3310bd72"
      },
      "execution_count": null,
      "outputs": [
        {
          "output_type": "execute_result",
          "data": {
            "text/plain": [
              "'love love love love love love love love love theres nothing cant done nothing sing cant sung nothing say learn play game easy need love need love need love love need love love love love love love love love love theres nothing make cant made noone save cant saved nothing learn time easy need love need love need love love need theres nothing know isnt known nothing see isnt shown nowhere isnt meant need love need love need love love need need love together need us love everybody need love love need need need'"
            ],
            "application/vnd.google.colaboratory.intrinsic+json": {
              "type": "string"
            }
          },
          "metadata": {},
          "execution_count": 33
        }
      ]
    },
    {
      "cell_type": "code",
      "source": [
        "beatles[\"TOKEN_LYRICS\"][152]"
      ],
      "metadata": {
        "colab": {
          "base_uri": "https://localhost:8080/",
          "height": 70
        },
        "id": "Wn7vGbzGWmyH",
        "outputId": "6640f2ce-4bf6-4a64-d1c8-558cca65d750"
      },
      "execution_count": null,
      "outputs": [
        {
          "output_type": "execute_result",
          "data": {
            "text/plain": [
              "'love love love love love love love love love theres nothing cant done nothing sing cant sung nothing say learn play game easy need love need love need love love need love love love love love love love love love theres nothing make cant made noone save cant saved nothing learn time easy need love need love need love love need theres nothing know isnt known nothing see isnt shown nowhere isnt meant need love need love need love love need need love together need us love everybody need love love need need need'"
            ],
            "application/vnd.google.colaboratory.intrinsic+json": {
              "type": "string"
            }
          },
          "metadata": {},
          "execution_count": 34
        }
      ]
    }
  ]
}